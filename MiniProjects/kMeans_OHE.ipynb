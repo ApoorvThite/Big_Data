{
 "cells": [
  {
   "cell_type": "markdown",
   "metadata": {},
   "source": [
    "# DS/CMPSC 410 MiniProject Deliverable #2\n",
    "\n",
    "# Spring 2025\n",
    "### Instructor: Prof. John Yen\n",
    "### TA: Peng Jin and Jingxi Zhu\n",
    "\n",
    "### Learning Objectives\n",
    "- Be able to represent ports scanned by scanners as binary features using One Hot Encoding\n",
    "- Be able to apply k-means clustering to cluster the scanners based on the set of ports they scanned. \n",
    "- Be able to identify the set of top k ports for one-hot encoding ports scanned.\n",
    "- Be able to interpret the results of clustering using cluster centers.\n",
    "- After successful clustering of the small Darknet dataset, conduct clustering on the large Darknet dataset (running spark in cluster mode).\n",
    "- Be able to evaluate the result of k-means clustering (cluster mode) using Silhouette score and Mirai labels.\n",
    "- Be able to use .persist() and .unpersist() to improve the scalability/efficiency of PySpark code.\n",
    "\n",
    "### Total points: 120 \n",
    "- Problem 1A: 5 points\n",
    "- Problem 1B: 5 points\n",
    "- Problem 1C: 10 points\n",
    "- Problem 2: 10 points \n",
    "- Problem 3: 10 points \n",
    "- Problem 4: 5 points\n",
    "- Problem 5: 10 points\n",
    "- Problem 6: 10 points\n",
    "- Problem 7: 15 points\n",
    "- Problem 8: 40 points\n",
    "\n",
    "### Items for Submission: \n",
    "- Completed Jupyter Notebook for local mode (HTML format)\n",
    "- .py file for successful execution in cluster mode \n",
    "- log file (including execution time information) for successful execution in cluster mode\n",
    "- The csv file (generated in cluster mode) for Mirai Ratio and Cluster Centers for all clusters\n",
    "- The csv file (generated in cluster mode) for sorted count of scanners that scan the same number of ports\n",
    "- The first data file (i.e., part-00000) (generated in cluster mode) in ``sorted_top_ports_counts.txt``\n",
    "  \n",
    "### Due: 11:59 pm, April 11, 2025\n",
    "### Early Submission bonus (before midnight April 6, 2025): 12 points"
   ]
  },
  {
   "cell_type": "code",
   "execution_count": null,
   "metadata": {},
   "outputs": [],
   "source": [
    "import pyspark\n",
    "import csv"
   ]
  },
  {
   "cell_type": "code",
   "execution_count": null,
   "metadata": {},
   "outputs": [],
   "source": [
    "from pyspark import SparkContext\n",
    "from pyspark.sql import SparkSession\n",
    "from pyspark.sql.types import StructField, StructType, StringType, LongType, IntegerType, DecimalType, BooleanType\n",
    "from pyspark.sql.functions import col, column\n",
    "from pyspark.sql.functions import expr\n",
    "from pyspark.sql.functions import split\n",
    "from pyspark.sql.functions import array_contains\n",
    "from pyspark.sql import Row\n",
    "from pyspark.ml import Pipeline\n",
    "from pyspark.ml.feature import OneHotEncoder, StringIndexer, VectorAssembler, IndexToString\n",
    "from pyspark.ml.clustering import KMeans\n",
    "from pyspark.ml.evaluation import ClusteringEvaluator"
   ]
  },
  {
   "cell_type": "code",
   "execution_count": null,
   "metadata": {},
   "outputs": [],
   "source": [
    "ss = SparkSession.builder.master(\"local\").appName(\"MiniProject 2 k-meas Clustering using OHE\").getOrCreate()"
   ]
  },
  {
   "cell_type": "code",
   "execution_count": null,
   "metadata": {},
   "outputs": [],
   "source": [
    "ss.sparkContext.setLogLevel(\"WARN\")"
   ]
  },
  {
   "cell_type": "markdown",
   "metadata": {},
   "source": [
    "# Problem 1A (5 points)\n",
    "Complete the path for input file in the code below and enter your name in this Markdown cell:\n",
    "- Name: \n",
    "## Note: You will need to change the name of the input file in the cluster mode to `Day_2020_profile.csv`"
   ]
  },
  {
   "cell_type": "code",
   "execution_count": null,
   "metadata": {},
   "outputs": [],
   "source": [
    "scanner_schema = StructType([StructField(\"_c0\", IntegerType(), False), \\\n",
    "                             StructField(\"id\", IntegerType(), False ), \\\n",
    "                             StructField(\"numports\", IntegerType(), False), \\\n",
    "                             StructField(\"lifetime\", DecimalType(), False ), \\\n",
    "                             StructField(\"Bytes\", IntegerType(), False ), \\\n",
    "                             StructField(\"Packets\", IntegerType(), False), \\\n",
    "                             StructField(\"average_packetsize\", IntegerType(), False), \\\n",
    "                             StructField(\"MinUniqueDests\", IntegerType(), False),\\\n",
    "                             StructField(\"MaxUniqueDests\", IntegerType(), False), \\\n",
    "                             StructField(\"MinUniqueDest24s\", IntegerType(), False), \\\n",
    "                             StructField(\"MaxUniqueDest24s\", IntegerType(), False), \\\n",
    "                             StructField(\"average_lifetime\", DecimalType(), False), \\\n",
    "                             StructField(\"mirai\", BooleanType(), True), \\\n",
    "                             StructField(\"zmap\", BooleanType(), True),\n",
    "                             StructField(\"masscan\", BooleanType(), True),\n",
    "                             StructField(\"country\", StringType(), False), \\\n",
    "                             StructField(\"traffic_types_scanned_str\", StringType(), False), \\\n",
    "                             StructField(\"ports_scanned_str\", StringType(), False), \\\n",
    "                             StructField(\"host_tags_per_censys\", StringType(), False), \\\n",
    "                             StructField(\"host_services_per_censys\", StringType(), False) \\\n",
    "                           ])"
   ]
  },
  {
   "cell_type": "code",
   "execution_count": null,
   "metadata": {},
   "outputs": [],
   "source": [
    "Scanners_df = ss.read.csv(\"/storage/home/???/work/MiniProj2/sampled_profile.csv\", schema= scanner_schema, header= True, inferSchema=False )"
   ]
  },
  {
   "cell_type": "markdown",
   "metadata": {},
   "source": [
    "## We can use printSchema() to display the schema of the DataFrame Scanners_df to see whether it was consistent with the schema."
   ]
  },
  {
   "cell_type": "code",
   "execution_count": null,
   "metadata": {},
   "outputs": [],
   "source": [
    "Scanners_df.printSchema()"
   ]
  },
  {
   "cell_type": "markdown",
   "metadata": {},
   "source": [
    "# In this lab, our goal is to answer the question:\n",
    "## Q: What groups of scanners are similar in the ports they scan?\n",
    "\n",
    "### Because we know (from MiniProject 1) about two third of the scanners scan only 1 port, we can exclude them so that we focus on the grouping of those scanners that scan at least two ports."
   ]
  },
  {
   "cell_type": "markdown",
   "metadata": {},
   "source": [
    "### Because the feature `numports` record the total number of ports being scanned by each scanner, we can use it to separate 1-port-scanners from multi-port-scanners."
   ]
  },
  {
   "cell_type": "code",
   "execution_count": null,
   "metadata": {},
   "outputs": [],
   "source": [
    "one_port_scanners = Scanners_df.where(col('numports') == 1)"
   ]
  },
  {
   "cell_type": "code",
   "execution_count": null,
   "metadata": {},
   "outputs": [],
   "source": [
    "one_port_scanners.show(3)"
   ]
  },
  {
   "cell_type": "code",
   "execution_count": null,
   "metadata": {},
   "outputs": [],
   "source": [
    "multi_port_scanners = Scanners_df.where(col(\"numports\") > 1)"
   ]
  },
  {
   "cell_type": "code",
   "execution_count": null,
   "metadata": {},
   "outputs": [],
   "source": [
    "multi_port_scanners_count = multi_port_scanners.count()"
   ]
  },
  {
   "cell_type": "code",
   "execution_count": null,
   "metadata": {},
   "outputs": [],
   "source": [
    "print(multi_port_scanners_count)"
   ]
  },
  {
   "cell_type": "markdown",
   "metadata": {},
   "source": [
    "# Before clustering, it can be useful to understand the distribution of scanners based on the number of ports they scan.\n",
    "# Because the column \"numports' already contain the information about the number of ports each scanner (represented by a row in the input csv file), we can use `groupby(\"numports\")` on `Scanners_df` followed by `.count()` "
   ]
  },
  {
   "cell_type": "code",
   "execution_count": null,
   "metadata": {},
   "outputs": [],
   "source": [
    "ScannersCount_byNumPorts = Scanners_df.groupby(\"numports\").count()"
   ]
  },
  {
   "cell_type": "code",
   "execution_count": null,
   "metadata": {},
   "outputs": [],
   "source": [
    "SortedScannersCount_byNumPorts= ScannersCount_byNumPorts.orderBy(\"count\", ascending=False)"
   ]
  },
  {
   "cell_type": "code",
   "execution_count": null,
   "metadata": {},
   "outputs": [],
   "source": [
    "SortedScannersCount_byNumPorts.show(10)"
   ]
  },
  {
   "cell_type": "code",
   "execution_count": null,
   "metadata": {},
   "outputs": [],
   "source": [
    "output1 = \"/storage/home/???/work/MiniProj2/local/SortedScannersCount_byNumPorts.csv\"\n",
    "SortedScannersCount_byNumPorts.write.option(\"header\", True).csv(output1)"
   ]
  },
  {
   "cell_type": "markdown",
   "metadata": {},
   "source": [
    "# What is the maximum and average of number of ports being scanned?"
   ]
  },
  {
   "cell_type": "markdown",
   "metadata": {},
   "source": [
    "# Problem 1B (5 points)\n",
    "## Use `agg` method of DataFrame to find the maximal and average number of ports being scanned across all scanners."
   ]
  },
  {
   "cell_type": "code",
   "execution_count": null,
   "metadata": {},
   "outputs": [],
   "source": [
    "MaxNumPorts = Scanners_df.agg({\"numports\" : ???})"
   ]
  },
  {
   "cell_type": "code",
   "execution_count": null,
   "metadata": {},
   "outputs": [],
   "source": [
    "MaxNumPorts.show(1)"
   ]
  },
  {
   "cell_type": "code",
   "execution_count": null,
   "metadata": {},
   "outputs": [],
   "source": [
    "AvgNumPorts = Scanners_df.agg({??? : ???})"
   ]
  },
  {
   "cell_type": "code",
   "execution_count": null,
   "metadata": {},
   "outputs": [],
   "source": [
    "AvgNumPorts.show(1)"
   ]
  },
  {
   "cell_type": "markdown",
   "metadata": {},
   "source": [
    "# We can also find scanners that scan many ports by investigating scanners whose numports is unique (one-of-a-kind, a unicorn)"
   ]
  },
  {
   "cell_type": "code",
   "execution_count": null,
   "metadata": {},
   "outputs": [],
   "source": [
    "ScannersCount_byNumPorts.where(col(\"count\")==1).show(10)"
   ]
  },
  {
   "cell_type": "markdown",
   "metadata": {},
   "source": [
    "# We noticed that some of the scanners that scan for very large number of ports (we call them Extreme Scanners) is unique in the number of ports they scan.\n",
    "## A heuristic to separate extreme scanners: Find the largest number of ports that are scanned by at least two scanners. Use the number as the threshold to filter extreme scanners."
   ]
  },
  {
   "cell_type": "code",
   "execution_count": null,
   "metadata": {},
   "outputs": [],
   "source": [
    "non_rare_NumPorts = SortedScannersCount_byNumPorts.where(col(\"count\") > 1)"
   ]
  },
  {
   "cell_type": "code",
   "execution_count": null,
   "metadata": {},
   "outputs": [],
   "source": [
    "non_rare_NumPorts.show(3)"
   ]
  },
  {
   "cell_type": "markdown",
   "metadata": {},
   "source": [
    "# DataFrame can aggregate a column using .agg({ \"column name\" : \"operator name\" })\n",
    "## We can find the maximum of numports column using \"max\" as aggregation operator.\n",
    "## The result is a DataFrame with only column named as ``<operator name>(<column name>)``"
   ]
  },
  {
   "cell_type": "code",
   "execution_count": null,
   "metadata": {},
   "outputs": [],
   "source": [
    "max_non_rare_NumPorts_df = non_rare_NumPorts.agg({\"numports\" : \"max\"})\n",
    "max_non_rare_NumPorts_df.show()"
   ]
  },
  {
   "cell_type": "markdown",
   "metadata": {},
   "source": [
    "# We want to record this number, rather than using the number (654) as a constant in the code below.\n",
    "## Why?\n",
    "## Because the number is based on the data, which is different for the cluster mode."
   ]
  },
  {
   "cell_type": "code",
   "execution_count": null,
   "metadata": {},
   "outputs": [],
   "source": [
    "max_non_rare_NumPorts_rdd = max_non_rare_NumPorts_df.rdd.map(lambda x: x[0])\n",
    "max_non_rare_NumPorts_rdd.take(2)"
   ]
  },
  {
   "cell_type": "code",
   "execution_count": null,
   "metadata": {},
   "outputs": [],
   "source": [
    "max_non_rare_NumPorts_list = max_non_rare_NumPorts_rdd.collect()\n",
    "print(max_non_rare_NumPorts_list)"
   ]
  },
  {
   "cell_type": "code",
   "execution_count": null,
   "metadata": {},
   "outputs": [],
   "source": [
    "max_non_rare_NumPorts=max_non_rare_NumPorts_list[0]\n",
    "print(max_non_rare_NumPorts)"
   ]
  },
  {
   "cell_type": "markdown",
   "metadata": {},
   "source": [
    "## We are going to focus on the grouping of scanners that scan at least two ports, and do not scan extremely large number of ports. We will call these scanners Non-extreme Multi-port Scanners.\n",
    "## We will save the extreme scanners in a csv file so that we can process it separately."
   ]
  },
  {
   "cell_type": "code",
   "execution_count": null,
   "metadata": {},
   "outputs": [],
   "source": [
    "extreme_scanners = Scanners_df.where(col(\"numports\") > max_non_rare_NumPorts)"
   ]
  },
  {
   "cell_type": "code",
   "execution_count": null,
   "metadata": {},
   "outputs": [],
   "source": [
    "path2=\"/storage/home/???/work/MiniProj2/local/Extreme_Scanners.csv\"\n",
    "extreme_scanners.write.option(\"header\",True).csv(path2)"
   ]
  },
  {
   "cell_type": "code",
   "execution_count": null,
   "metadata": {},
   "outputs": [],
   "source": [
    "non_extreme_multi_port_scanners = Scanners_df.where(col(\"numports\") <= max_non_rare_NumPorts).where(col(\"numports\") > 1)"
   ]
  },
  {
   "cell_type": "code",
   "execution_count": null,
   "metadata": {},
   "outputs": [],
   "source": [
    "non_extreme_multi_port_scanners.persist()"
   ]
  },
  {
   "cell_type": "code",
   "execution_count": null,
   "metadata": {},
   "outputs": [],
   "source": [
    "non_extreme_multi_port_scanners.count()"
   ]
  },
  {
   "cell_type": "markdown",
   "metadata": {},
   "source": [
    "# Part A: One Hot Encoding of Top 100 Ports\n",
    "We want to apply one hot encoding to the top 100 ports scanned by scanners. \n",
    "- A1: Find top k ports scanned by non_extreme_multi_port scanners (This is similar to the first part of MiniProject 1)\n",
    "- A2: Generate One Hot Encodding for these top k ports"
   ]
  },
  {
   "cell_type": "code",
   "execution_count": null,
   "metadata": {},
   "outputs": [],
   "source": [
    "non_extreme_multi_port_scanners.select(\"ports_scanned_str\").show(4)"
   ]
  },
  {
   "cell_type": "markdown",
   "metadata": {},
   "source": [
    "# For each port scanned, count the Total Number of Scanners that Scan the Given Port\n",
    "Like MiniProject 1, to calculate this, we need to \n",
    "- (a) convert the ports_scanned_str into an array/list of ports\n",
    "- (b) Convert the DataFrame into an RDD\n",
    "- (c) Use flatMap to count the total number of scanners for each port."
   ]
  },
  {
   "cell_type": "markdown",
   "metadata": {},
   "source": [
    "# The Following Code Implements the three steps.\n",
    "## (a) Create a new column \"Ports_Array\" by splitting the column \"ports_scanned_str\" using \"-\" as the delimiter."
   ]
  },
  {
   "cell_type": "code",
   "execution_count": null,
   "metadata": {},
   "outputs": [],
   "source": [
    "# (a)\n",
    "NEMP_Scanners_df=non_extreme_multi_port_scanners.withColumn(\"Ports_Array\", split(col(\"ports_scanned_str\"), \"-\") )\n",
    "NEMP_Scanners_df.show(2)"
   ]
  },
  {
   "cell_type": "markdown",
   "metadata": {},
   "source": [
    "# We will need to use NEMP_Scanners_df multiple times in creating OHE features later, so we persist it."
   ]
  },
  {
   "cell_type": "code",
   "execution_count": null,
   "metadata": {},
   "outputs": [],
   "source": [
    "NEMP_Scanners_df.persist()"
   ]
  },
  {
   "cell_type": "markdown",
   "metadata": {},
   "source": [
    "## (b) We convert the column ```Ports_Array``` into an RDD so that we can apply flatMap for counting the number of scanners, among those that scan at least two ports, but not extreme scanners, that scan each port."
   ]
  },
  {
   "cell_type": "code",
   "execution_count": null,
   "metadata": {},
   "outputs": [],
   "source": [
    "Ports_Scanned_RDD = NEMP_Scanners_df.select(\"Ports_Array\").rdd"
   ]
  },
  {
   "cell_type": "code",
   "execution_count": null,
   "metadata": {},
   "outputs": [],
   "source": [
    "Ports_Scanned_RDD.take(5)"
   ]
  },
  {
   "cell_type": "markdown",
   "metadata": {},
   "source": [
    "## (c) Because each port number in the Ports_Array column for each row/scanner occurs only once, we can count the total number of scanners by counting the total occurance of each port number through flatMap.\n",
    "### Because each element of the ``Ports_Scanned_RDD`` rdd is a Row object, we need to first extract ``Ports_Array`` from the row object.\n",
    "# Problem 1C (10%) Complete the code below to count the total number of scanners that scan a port using ``flatMap`` and ``reduceByKey`` (like miniProject 1)."
   ]
  },
  {
   "cell_type": "code",
   "execution_count": null,
   "metadata": {},
   "outputs": [],
   "source": [
    "Ports_Scanned_RDD.take(3)"
   ]
  },
  {
   "cell_type": "code",
   "execution_count": null,
   "metadata": {},
   "outputs": [],
   "source": [
    "Ports_list_RDD = Ports_Scanned_RDD.map(lambda row: row.??? )"
   ]
  },
  {
   "cell_type": "code",
   "execution_count": null,
   "metadata": {},
   "outputs": [],
   "source": [
    "Ports_list_RDD.take(3)"
   ]
  },
  {
   "cell_type": "code",
   "execution_count": null,
   "metadata": {},
   "outputs": [],
   "source": [
    "flattened_Ports_list_RDD = Ports_list_RDD.flatMap(lambda x: ??? )"
   ]
  },
  {
   "cell_type": "code",
   "execution_count": null,
   "metadata": {},
   "outputs": [],
   "source": [
    "flattened_Ports_list_RDD.take(7)"
   ]
  },
  {
   "cell_type": "code",
   "execution_count": null,
   "metadata": {},
   "outputs": [],
   "source": [
    "Port_1_RDD = flattened_Ports_list_RDD.map(lambda x: ???)\n",
    "Port_1_RDD.take(7)"
   ]
  },
  {
   "cell_type": "code",
   "execution_count": null,
   "metadata": {},
   "outputs": [],
   "source": [
    "Port_count_RDD = Port_1_RDD.reduceByKey(lambda ???: ???, 5)"
   ]
  },
  {
   "cell_type": "markdown",
   "metadata": {},
   "source": [
    "# Problem 2 (10%) \n",
    "### Complete The code below to find top k ports scanned by non-extreme multi-port scanners using ``sortByKey``, like mini-project 1.\n",
    "### We will set k to 120 for mini-project 2."
   ]
  },
  {
   "cell_type": "code",
   "execution_count": null,
   "metadata": {},
   "outputs": [],
   "source": [
    "Sorted_Count_Port_RDD = Port_count_RDD.map(lambda x: (???, ???)).sortByKey( ascending = False)"
   ]
  },
  {
   "cell_type": "code",
   "execution_count": null,
   "metadata": {},
   "outputs": [],
   "source": [
    "top_ports = 120\n",
    "Sorted_Count_Port_RDD.take(top_ports)"
   ]
  },
  {
   "cell_type": "code",
   "execution_count": null,
   "metadata": {},
   "outputs": [],
   "source": [
    "path3=\"/storage/home/???/work/MiniProj2/local/sorted_top_ports_counts\"\n",
    "Sorted_Count_Port_RDD.saveAsTextFile(path3)"
   ]
  },
  {
   "cell_type": "markdown",
   "metadata": {},
   "source": [
    "# Because we have applied ``persist()`` on ``NEMP_scanners_DF``, and the above action has generated the NEMP_scanners_DF, we can release the resource of ``non_extreme_multi_port_scanners`` because we don't need it in the rest of the code."
   ]
  },
  {
   "cell_type": "code",
   "execution_count": null,
   "metadata": {},
   "outputs": [],
   "source": [
    "non_extreme_multi_port_scanners.unpersist()"
   ]
  },
  {
   "cell_type": "markdown",
   "metadata": {},
   "source": [
    "# Like miniproject 1, we want to get a list of k top ports.  However, unlike miniproject 1, we use the list of k top ports to create One Hot Encoding for each top port in the list.\n",
    "# We use the top k ports for One Hot Encoding\n",
    "# The value of top_ports (120) is assigned in Problem 2"
   ]
  },
  {
   "cell_type": "code",
   "execution_count": null,
   "metadata": {},
   "outputs": [],
   "source": [
    "Sorted_Ports_RDD= Sorted_Count_Port_RDD.map(lambda x: x[1] )\n",
    "Top_Ports_list = Sorted_Ports_RDD.take(top_ports)"
   ]
  },
  {
   "cell_type": "code",
   "execution_count": null,
   "metadata": {},
   "outputs": [],
   "source": [
    "Top_Ports_list"
   ]
  },
  {
   "cell_type": "code",
   "execution_count": null,
   "metadata": {},
   "outputs": [],
   "source": [
    "len(Top_Ports_list)"
   ]
  },
  {
   "cell_type": "markdown",
   "metadata": {},
   "source": [
    "#  A.2 One Hot Encoding of Top K Ports\n",
    "## One-Hot-Encoded Feature/Column Name\n",
    "Because we need to create a name for each one-hot-encoded feature, which is one of the top k ports, we can adopt the convention that the column name is \"PortXXXX\", where \"XXXX\" is a port number. This can be done by concatenating two strings using ``+``."
   ]
  },
  {
   "cell_type": "code",
   "execution_count": null,
   "metadata": {},
   "outputs": [],
   "source": [
    "Top_Ports_list[1]"
   ]
  },
  {
   "cell_type": "code",
   "execution_count": null,
   "metadata": {},
   "outputs": [],
   "source": [
    "FeatureName = \"Port\"+Top_Ports_list[1]"
   ]
  },
  {
   "cell_type": "code",
   "execution_count": null,
   "metadata": {},
   "outputs": [],
   "source": [
    "FeatureName"
   ]
  },
  {
   "cell_type": "markdown",
   "metadata": {},
   "source": [
    "## One-Hot-Encoding using withColumn and array_contains"
   ]
  },
  {
   "cell_type": "markdown",
   "metadata": {},
   "source": [
    "# Problem 3 (10 points) Complete the code below for One-Hot-Encoding of the SECOND top port."
   ]
  },
  {
   "cell_type": "code",
   "execution_count": null,
   "metadata": {},
   "outputs": [],
   "source": [
    "from pyspark.sql.functions import array_contains"
   ]
  },
  {
   "cell_type": "code",
   "execution_count": null,
   "metadata": {},
   "outputs": [],
   "source": [
    "NEMP_Scanners2_df= NEMP_Scanners_df.withColumn(\"Port\"+Top_Ports_list[??], ???(???, ???))"
   ]
  },
  {
   "cell_type": "code",
   "execution_count": null,
   "metadata": {},
   "outputs": [],
   "source": [
    "NEMP_Scanners2_df.show(10)"
   ]
  },
  {
   "cell_type": "markdown",
   "metadata": {},
   "source": [
    "## Verify the Correctness of One-Hot-Encoded Feature\n",
    "## Problem 4 (5 points)\n",
    "### Check whether one-hot encoding of the second top port is encoded correctly by completing the code below and enter your answer the in the next Markdown cell."
   ]
  },
  {
   "cell_type": "code",
   "execution_count": null,
   "metadata": {},
   "outputs": [],
   "source": [
    "Second_top_port_scanners_count = NEMP_Scanners2_df.where(col(\"Port\"+Top_Ports_list[???])== True).???"
   ]
  },
  {
   "cell_type": "code",
   "execution_count": null,
   "metadata": {},
   "outputs": [],
   "source": [
    "print(Second_top_port_scanners_count)"
   ]
  },
  {
   "cell_type": "code",
   "execution_count": null,
   "metadata": {},
   "outputs": [],
   "source": [
    "Sorted_Count_Port_RDD.take(??)"
   ]
  },
  {
   "cell_type": "markdown",
   "metadata": {},
   "source": [
    "## Answer for Problem 4:\n",
    "- The second top port is :\n",
    "- The total number of scanners that scan the secont top port, based on ``Sorted_Count_Port_RDD`` is:\n",
    "- Is this number the same as the number of scanners whose One-Hot-Encoded feature of the second top port is True?"
   ]
  },
  {
   "cell_type": "markdown",
   "metadata": {},
   "source": [
    "## Generate Hot-One Encoded Feature for each of the top k ports in the Top_Ports_list\n",
    "\n",
    "- Iterate through the Top_Ports_list so that each top port is one-hot encoded into the DataFrame for non-extreme multi-port scanners (i.e., `NEMP_Scanners2.df`)."
   ]
  },
  {
   "cell_type": "markdown",
   "metadata": {},
   "source": [
    "## Problem 5 (10 points)\n",
    "Complete the following PySpark code for encoding the top n ports using One Hot Encoding, where n is specified by the variable ```top_ports```"
   ]
  },
  {
   "cell_type": "code",
   "execution_count": null,
   "metadata": {},
   "outputs": [],
   "source": [
    "top_ports"
   ]
  },
  {
   "cell_type": "code",
   "execution_count": null,
   "metadata": {},
   "outputs": [],
   "source": [
    "Top_Ports_list[top_ports - 1]"
   ]
  },
  {
   "cell_type": "code",
   "execution_count": null,
   "metadata": {},
   "outputs": [],
   "source": [
    "for i in range(0, top_ports):\n",
    "    # \"Port\" + Top_Ports_list[i]  is the name of each new feature created through One Hot Encoding Top_Ports_list\n",
    "    NEMP_Scanners3_df = NEMP_Scanners2_df.????(\"Port\" + Top_Ports_list[??], ???(\"Ports_Array\",Top_Ports_list[???]))\n",
    "    NEMP_Scanners2_df = NEMP_Scanners3_df"
   ]
  },
  {
   "cell_type": "code",
   "execution_count": null,
   "metadata": {},
   "outputs": [],
   "source": [
    "NEMP_Scanners2_df.printSchema()"
   ]
  },
  {
   "cell_type": "markdown",
   "metadata": {},
   "source": [
    "# Problem 6 (10 points)\n",
    "## Complete the code below to use k-means (number of clusters = 200) to cluster non-extreme multi-port scanners using one-hot-encoded top 120 ports."
   ]
  },
  {
   "cell_type": "markdown",
   "metadata": {},
   "source": [
    "## Specify Parameters for k Means Clustering"
   ]
  },
  {
   "cell_type": "code",
   "execution_count": null,
   "metadata": {},
   "outputs": [],
   "source": [
    "input_features = [ ]\n",
    "for i in range(0, ??? ):\n",
    "    input_features.append( \"Port\"+ Top_Ports_list[???] )"
   ]
  },
  {
   "cell_type": "code",
   "execution_count": null,
   "metadata": {},
   "outputs": [],
   "source": [
    "print(input_features)"
   ]
  },
  {
   "cell_type": "code",
   "execution_count": null,
   "metadata": {},
   "outputs": [],
   "source": [
    "va = VectorAssembler().setInputCols(????).setOutputCol(\"features\")"
   ]
  },
  {
   "cell_type": "code",
   "execution_count": null,
   "metadata": {},
   "outputs": [],
   "source": [
    "data= va.transform(NEMP_Scanners2_df)"
   ]
  },
  {
   "cell_type": "code",
   "execution_count": null,
   "metadata": {},
   "outputs": [],
   "source": [
    "data.show(1)"
   ]
  },
  {
   "cell_type": "code",
   "execution_count": null,
   "metadata": {},
   "outputs": [],
   "source": [
    "data.persist()"
   ]
  },
  {
   "cell_type": "code",
   "execution_count": null,
   "metadata": {},
   "outputs": [],
   "source": [
    "km = KMeans(featuresCol= ????, predictionCol=\"prediction\").setK(???).setSeed(127)\n",
    "km.explainParams()"
   ]
  },
  {
   "cell_type": "code",
   "execution_count": null,
   "metadata": {},
   "outputs": [],
   "source": [
    "kmModel=km.fit(???)"
   ]
  },
  {
   "cell_type": "code",
   "execution_count": null,
   "metadata": {},
   "outputs": [],
   "source": [
    "kmModel"
   ]
  },
  {
   "cell_type": "code",
   "execution_count": null,
   "metadata": {},
   "outputs": [],
   "source": [
    "predictions = kmModel.transform(???)"
   ]
  },
  {
   "cell_type": "code",
   "execution_count": null,
   "metadata": {},
   "outputs": [],
   "source": [
    "predictions.show(3)"
   ]
  },
  {
   "cell_type": "markdown",
   "metadata": {},
   "source": [
    "# Find The Size of The First Cluster"
   ]
  },
  {
   "cell_type": "code",
   "execution_count": null,
   "metadata": {},
   "outputs": [],
   "source": [
    "Cluster1_df=predictions.where(col(\"prediction\")==0)"
   ]
  },
  {
   "cell_type": "code",
   "execution_count": null,
   "metadata": {},
   "outputs": [],
   "source": [
    "Cluster1_df.count()"
   ]
  },
  {
   "cell_type": "code",
   "execution_count": null,
   "metadata": {},
   "outputs": [],
   "source": [
    "summary = kmModel.summary"
   ]
  },
  {
   "cell_type": "code",
   "execution_count": null,
   "metadata": {},
   "outputs": [],
   "source": [
    "summary.clusterSizes"
   ]
  },
  {
   "cell_type": "code",
   "execution_count": null,
   "metadata": {},
   "outputs": [],
   "source": [
    "evaluator = ClusteringEvaluator()\n",
    "silhouette = evaluator.evaluate(predictions)"
   ]
  },
  {
   "cell_type": "code",
   "execution_count": null,
   "metadata": {},
   "outputs": [],
   "source": [
    "print('Silhouette Score of the Clustering Result is ', silhouette)"
   ]
  },
  {
   "cell_type": "code",
   "execution_count": null,
   "metadata": {},
   "outputs": [],
   "source": [
    "centers = kmModel.clusterCenters()"
   ]
  },
  {
   "cell_type": "code",
   "execution_count": null,
   "metadata": {},
   "outputs": [],
   "source": [
    "print(centers)"
   ]
  },
  {
   "cell_type": "markdown",
   "metadata": {},
   "source": [
    "# Record cluster index, cluster size, percentage of Mirai scanners, and cluster centers for each clusters formed.\n",
    "## The value of cluster center for a OHE top port is the percentage of data/clusters in the cluster that scans the top port. For example, a cluster center `[0.094, 0.8, 0, ...]` indicates the following\n",
    "- 9.4% of the scanners in the cluster scan Top_Ports_list[0]: port 17132\n",
    "- 80% of the scanners in the cluster scan Top_Ports_list[1]: port 17130\n",
    "- No scanners in the cluster scan Top_Ports_list[2]: port 17140"
   ]
  },
  {
   "cell_type": "markdown",
   "metadata": {},
   "source": [
    "# Problem 7 (15 points) Complete the code below for computing the percentage of Mirai scanners for each scanner, and record it together with cluster centers for each cluster. Add persist to PySpark DataFrames that are used multiple times.  Add unpersist whenever the resource for a PySpark DataFrame is no longer needed."
   ]
  },
  {
   "cell_type": "code",
   "execution_count": null,
   "metadata": {},
   "outputs": [],
   "source": [
    "import pandas as pd\n",
    "import numpy as np\n",
    "import math"
   ]
  },
  {
   "cell_type": "code",
   "execution_count": null,
   "metadata": {},
   "outputs": [],
   "source": [
    "# Define columns of the Pandas dataframe\n",
    "column_list = ['cluster ID', 'size', 'mirai_ratio' ]\n",
    "cluster_num =200\n",
    "for feature in input_features:\n",
    "    column_list.append(feature)\n",
    "clusters_summary_df = pd.DataFrame( columns = column_list )\n",
    "for i in range(0, ???):\n",
    "    cluster_i = predictions.where(col('prediction')==???)\n",
    "    cluster_i_size = cluster_i.count()\n",
    "    cluster_i_mirai_count = cluster_i.where(????)????\n",
    "    cluster_i_mirai_ratio = cluster_i_mirai_count/cluster_i_size\n",
    "    if cluster_i_mirai_count > 0:\n",
    "        print(\"Cluster \", i, \"; Mirai Ratio:\", cluster_i_mirai_ratio, \"; Cluster Size: \", cluster_i_size)\n",
    "    cluster_row = [i, cluster_i_size, cluster_i_mirai_ratio]\n",
    "    for j in range(0, len(input_features)):\n",
    "        cluster_row.append(centers[?][?])\n",
    "    clusters_summary_df.loc[?]= cluster_row"
   ]
  },
  {
   "cell_type": "code",
   "execution_count": null,
   "metadata": {},
   "outputs": [],
   "source": [
    "# Create a file name based on the number of top_ports\n",
    "path4= \"/storage/home/???/work/MiniProj2/local/MiraiRatio_Cluster_centers_\"+\"OHE\"+ str(top_ports)+\"top_ports\"+\"_k200.csv\"\n",
    "clusters_summary_df.to_csv(path4, header=True)"
   ]
  },
  {
   "cell_type": "markdown",
   "metadata": {},
   "source": [
    "# Problem 8 (40 points)\n",
    "- Modify the Jupyter Notebook for running in cluster mode using the big dataset (Day_2020_profile.csv). \n",
    "- Make sure you change the output directory from `../local/..` to `../cluster/..` so that it does not destroy the result you obtained in local mode.\n",
    "- Add suitable persist and unpersist for Problem 7.\n",
    "- If you want to compare performance of different persist options, make sure you change the output directory (e.g., ``../cluster_np/`` for without persist).\n",
    "- Run the .py file the cluster mode. The following submission items (in addition to the completed Jupyter Notebook for local mode) are generated from the cluster mode.\n",
    "- Submit the .py file \n",
    "- Submit the the log file that contains the run time information for a successful execution in the cluster mode.\n",
    "- Submit the csv file that records the mirai percentage and cluster centers in the cluster mode.\n",
    "- Submit the csv file that contains count of scanners that scan the same number of ports.\n",
    "- Submit the first data file (part-00000) in ``sorted_top_ports_counts.txt``"
   ]
  },
  {
   "cell_type": "code",
   "execution_count": null,
   "metadata": {},
   "outputs": [],
   "source": [
    "ss.stop()"
   ]
  },
  {
   "cell_type": "code",
   "execution_count": null,
   "metadata": {},
   "outputs": [],
   "source": []
  }
 ],
 "metadata": {
  "kernelspec": {
   "display_name": "Python 3 (ipykernel)",
   "language": "python",
   "name": "python3"
  },
  "language_info": {
   "codemirror_mode": {
    "name": "ipython",
    "version": 3
   },
   "file_extension": ".py",
   "mimetype": "text/x-python",
   "name": "python",
   "nbconvert_exporter": "python",
   "pygments_lexer": "ipython3",
   "version": "3.10.4"
  }
 },
 "nbformat": 4,
 "nbformat_minor": 4
}
