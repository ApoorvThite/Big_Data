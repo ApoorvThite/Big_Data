{
 "cells": [
  {
   "cell_type": "markdown",
   "metadata": {},
   "source": [
    "# DS/CMPSC 410 Spring 2025\n",
    "# Instructor: Professor John Yen\n",
    "# TA: Peng Jin and Jingxi Zhu\n",
    "\n",
    "# Lab 5: Data Frames, DF-based Aggregation, and Top Movie Reviews \n",
    "\n",
    "# The goals of this lab are for you to be able to\n",
    "## - Use Data Frames in Spark for Processing Structured Data\n",
    "## - Perform Basic DataFrame Transformation: Filtering Rows and Selecting Columns of DataFrame\n",
    "## - Create New Column of DataFrame using `withColumn`\n",
    "## - Use DF SQL Function split to transform a string into an Array\n",
    "## - Filter on a DF Column that is an Array using `array_contains`\n",
    "## - Use `Join` to integrate DataFrames \n",
    "## - Use `GroupBy`, followed by `count` and `sum` DF transformation to calculate the total count (of rows) and the summation of a DF column (e.g., reviews) for each group (e.g., movie).\n",
    "## - Perform sorting on a DataFrame column\n",
    "## - Apply the obove to find Movies in a Genre of your choice that has good reviews with a significant number of ratings (use 10 as the threshold for local mode, 100 as the threshold for cluster mode).\n",
    "## - After completing all exercises in the Notebook, convert the code for processing large reviews dataset and large movies dataset to find movies with top average ranking with at least 100 reviews for a genre of your choice.\n",
    "\n",
    "## Total Number of Exercises: \n",
    "- Exercise 1: 5 points\n",
    "- Exercise 2A: 5 points\n",
    "- Exercise 2B: 5 points\n",
    "- Exercise 3A: 5 points\n",
    "- Exercise 3B: 5 points\n",
    "- Exercise 4: 5 points\n",
    "- Exercise 5A: 5 points\n",
    "- Exercise 5B: 5 points\n",
    "- Exercise 6: 5 points\n",
    "- Exercise 7: 5 points\n",
    "- Exercise 8: 10 points\n",
    "- Exercise 9: 10 points\n",
    "- Part B (Exercise 10): \n",
    "- Correct .py file for spark-submit (10 points)\n",
    "- Log file of successful pbs-spark-submit (10 points)\n",
    "- Correct output file (cluster mode) for movies, sorted by average reviews, filtered for having been reviewed by more than the mean of reviewers/movie (10 points) \n",
    "## Total Points: 100 points\n",
    "\n",
    "# Due: midnight, February 16th, 2025\n"
   ]
  },
  {
   "cell_type": "markdown",
   "metadata": {},
   "source": [
    "## The first thing we need to do in each Jupyter Notebook running pyspark is to import pyspark first."
   ]
  },
  {
   "cell_type": "code",
   "execution_count": 1,
   "metadata": {},
   "outputs": [],
   "source": [
    "import pyspark"
   ]
  },
  {
   "cell_type": "markdown",
   "metadata": {},
   "source": [
    "### Once we import pyspark, we need to import \"SparkContext\".  Every spark program needs a SparkContext object\n",
    "### In order to use Spark SQL on DataFrames, we also need to import SparkSession from PySpark.SQL"
   ]
  },
  {
   "cell_type": "code",
   "execution_count": 2,
   "metadata": {},
   "outputs": [],
   "source": [
    "from pyspark import SparkContext\n",
    "from pyspark.sql import SparkSession\n",
    "from pyspark.sql.types import StructField, StructType, StringType, LongType, IntegerType, FloatType\n",
    "from pyspark.sql.functions import col, column\n",
    "from pyspark.sql.functions import expr\n",
    "from pyspark.sql.functions import split\n",
    "from pyspark.sql import Row"
   ]
  },
  {
   "cell_type": "markdown",
   "metadata": {},
   "source": [
    "## We then create a Spark Session variable (rather than Spark Context) in order to use DataFrame. \n",
    "- Note: We temporarily use \"local\" as the parameter for master in this notebook so that we can test it in ICDS Roar.  However, we need to REMOVE .master(\"local\") before we submit it  to run in cluster mode."
   ]
  },
  {
   "cell_type": "code",
   "execution_count": 3,
   "metadata": {},
   "outputs": [
    {
     "name": "stderr",
     "output_type": "stream",
     "text": [
      "WARNING: An illegal reflective access operation has occurred\n",
      "WARNING: Illegal reflective access by org.apache.spark.unsafe.Platform (file:/storage/icds/RISE/sw8/anaconda3-2021.11/conda_envs/pyspark/lib/python3.10/site-packages/pyspark/jars/spark-unsafe_2.12-3.2.1.jar) to constructor java.nio.DirectByteBuffer(long,int)\n",
      "WARNING: Please consider reporting this to the maintainers of org.apache.spark.unsafe.Platform\n",
      "WARNING: Use --illegal-access=warn to enable warnings of further illegal reflective access operations\n",
      "WARNING: All illegal access operations will be denied in a future release\n",
      "Using Spark's default log4j profile: org/apache/spark/log4j-defaults.properties\n",
      "Setting default log level to \"WARN\".\n",
      "To adjust logging level use sc.setLogLevel(newLevel). For SparkR, use setLogLevel(newLevel).\n",
      "25/02/12 01:34:23 WARN NativeCodeLoader: Unable to load native-hadoop library for your platform... using builtin-java classes where applicable\n"
     ]
    }
   ],
   "source": [
    "ss=SparkSession.builder.master(\"local\").appName(\"Lab 5 Top Reviews\").getOrCreate()"
   ]
  },
  {
   "cell_type": "code",
   "execution_count": 4,
   "metadata": {},
   "outputs": [],
   "source": [
    "ss.sparkContext.setLogLevel(\"WARN\")"
   ]
  },
  {
   "cell_type": "markdown",
   "metadata": {},
   "source": [
    "# Replace the question marks in the path below with your User ID (i.e., your home directory) to specify your scratch directory."
   ]
  },
  {
   "cell_type": "code",
   "execution_count": 5,
   "metadata": {},
   "outputs": [],
   "source": [
    "ss.sparkContext.setCheckpointDir(\"/storage/home/aat5564/scratch\")"
   ]
  },
  {
   "cell_type": "markdown",
   "metadata": {},
   "source": [
    "# Exercise 1 (5 points) \n",
    "- (a) Add your name below AND \n",
    "- (b) replace the path below in both `ss.read.csv` statements with the path of your home directory.\n",
    "\n",
    "## Answer for Exercise 1 (Double click this Markdown cell to fill your name below.)\n",
    "- a: Student Name: Apoorv Ajay Thite"
   ]
  },
  {
   "cell_type": "code",
   "execution_count": 6,
   "metadata": {},
   "outputs": [],
   "source": [
    "rating_schema = StructType([ StructField(\"UserID\", IntegerType(), False ), \\\n",
    "                            StructField(\"MovieID\", IntegerType(), True), \\\n",
    "                            StructField(\"Rating\", FloatType(), True ), \\\n",
    "                            StructField(\"RatingID\", IntegerType(), True ), \\\n",
    "                           ])"
   ]
  },
  {
   "cell_type": "code",
   "execution_count": 8,
   "metadata": {},
   "outputs": [],
   "source": [
    "ratings_DF = ss.read.csv(\"/storage/home/aat5564/work/Lab5/ratings_samples.csv\", schema= rating_schema, header=True, inferSchema=False)\n",
    "# In the cluster mode, we need to change the input path as well as the header parameter:  `header=False` because the large rating file does not have header."
   ]
  },
  {
   "cell_type": "code",
   "execution_count": 9,
   "metadata": {},
   "outputs": [],
   "source": [
    "movie_schema = StructType([ StructField(\"MovieID\", IntegerType(), False), \\\n",
    "                            StructField(\"MovieTitle\", StringType(), True ), \\\n",
    "                            StructField(\"Genres\", StringType(), True ), \\\n",
    "                           ])"
   ]
  },
  {
   "cell_type": "code",
   "execution_count": 10,
   "metadata": {},
   "outputs": [],
   "source": [
    "movies_DF = ss.read.csv(\"/storage/home/aat5564/work/Lab5/movies_samples.csv\", schema=movie_schema, header=True, inferSchema=False)\n",
    "# In the cluster mode, we need to change the input path as well as the header parameter: `header=False` because the large movie file does not have header."
   ]
  },
  {
   "cell_type": "code",
   "execution_count": 11,
   "metadata": {},
   "outputs": [
    {
     "name": "stdout",
     "output_type": "stream",
     "text": [
      "root\n",
      " |-- MovieID: integer (nullable = true)\n",
      " |-- MovieTitle: string (nullable = true)\n",
      " |-- Genres: string (nullable = true)\n",
      "\n"
     ]
    }
   ],
   "source": [
    "movies_DF.printSchema()"
   ]
  },
  {
   "cell_type": "code",
   "execution_count": 12,
   "metadata": {},
   "outputs": [
    {
     "name": "stdout",
     "output_type": "stream",
     "text": [
      "+-------+--------------------+--------------------+\n",
      "|MovieID|          MovieTitle|              Genres|\n",
      "+-------+--------------------+--------------------+\n",
      "|      1|    Toy Story (1995)|Adventure|Animati...|\n",
      "|      2|      Jumanji (1995)|Adventure|Childre...|\n",
      "|      3|Grumpier Old Men ...|      Comedy|Romance|\n",
      "|      4|Waiting to Exhale...|Comedy|Drama|Romance|\n",
      "|      5|Father of the Bri...|              Comedy|\n",
      "|      6|         Heat (1995)|Action|Crime|Thri...|\n",
      "|      7|      Sabrina (1995)|      Comedy|Romance|\n",
      "|      8| Tom and Huck (1995)|  Adventure|Children|\n",
      "|      9| Sudden Death (1995)|              Action|\n",
      "|     10|    GoldenEye (1995)|Action|Adventure|...|\n",
      "+-------+--------------------+--------------------+\n",
      "only showing top 10 rows\n",
      "\n"
     ]
    }
   ],
   "source": [
    "movies_DF.show(10)"
   ]
  },
  {
   "cell_type": "markdown",
   "metadata": {},
   "source": [
    "# Transforming DataFrame to RDD\n",
    "## Use Case: Counting movies by Generes\n",
    "Suppose we want to count the number of movies in each generes.  There are two ways to do this: \n",
    "- (1) using RDD-based map and reduceByKey, and \n",
    "- (2) using DF-based groupBy and aggregation operator (count).\n",
    "We will first discuss RDD-based approach.  Later in this notebook, we will introduce DF-based aggregation.\n",
    "\n",
    "# RDD-based aggregation\n",
    "In order to use RDD-based aggregation on a DataFrame, we need to \n",
    "- (a) Select the MovieID and Genres columns from the movies DataFrame into a new DataFrame.\n",
    "- (b) Convert the new DataFrame into an RDD.\n",
    "- (c) Use map to split the Genres (a string) of each movie using the deliminator \"|\" (similar to the way we splitted a tweet into a list of tokens using the deliminator \" \").\n",
    "- (d) Flatted the list of genres into a giantic list of genres using `flatMap`.\n",
    "- (e) Use map and reduceByKey to count the total number that each genres occur in the giantic list (similar to the way we compute hashtags in previous labs)."
   ]
  },
  {
   "cell_type": "code",
   "execution_count": 13,
   "metadata": {},
   "outputs": [],
   "source": [
    "# step (a)\n",
    "movies_genres_DF = movies_DF.select(\"MovieID\",\"Genres\")"
   ]
  },
  {
   "cell_type": "markdown",
   "metadata": {},
   "source": [
    "## step (b)\n",
    "## The method \"rdd\", when applied to a DataFrame, returns an RDD representation of the DataFrame.\n",
    "- Each element of the converted RDD is a `Row` object, which corresponds to each row of the DataFrame.  A column value in a row object can be accessed by the column value, as illustrated below for the column `Genres`."
   ]
  },
  {
   "cell_type": "code",
   "execution_count": 14,
   "metadata": {},
   "outputs": [],
   "source": [
    "# step (b)\n",
    "movies_genres_rdd = movies_genres_DF.rdd"
   ]
  },
  {
   "cell_type": "code",
   "execution_count": 15,
   "metadata": {},
   "outputs": [
    {
     "name": "stderr",
     "output_type": "stream",
     "text": [
      "                                                                                \r"
     ]
    },
    {
     "data": {
      "text/plain": [
       "[Row(MovieID=1, Genres='Adventure|Animation|Children|Comedy|Fantasy'),\n",
       " Row(MovieID=2, Genres='Adventure|Children|Fantasy'),\n",
       " Row(MovieID=3, Genres='Comedy|Romance')]"
      ]
     },
     "execution_count": 15,
     "metadata": {},
     "output_type": "execute_result"
    }
   ],
   "source": [
    "movies_genres_rdd.take(3)"
   ]
  },
  {
   "cell_type": "code",
   "execution_count": 16,
   "metadata": {},
   "outputs": [
    {
     "data": {
      "text/plain": [
       "'Adventure|Animation|Children|Comedy|Fantasy'"
      ]
     },
     "execution_count": 16,
     "metadata": {},
     "output_type": "execute_result"
    }
   ],
   "source": [
    "movies_genres_rdd.take(3)[0]['Genres']"
   ]
  },
  {
   "cell_type": "markdown",
   "metadata": {},
   "source": [
    "# Exercise 2A (5 points)\n",
    "Complete the code below to obtain the Genres of the second movie in `movies_genres_rdd`"
   ]
  },
  {
   "cell_type": "code",
   "execution_count": 17,
   "metadata": {},
   "outputs": [
    {
     "data": {
      "text/plain": [
       "'Adventure|Children|Fantasy'"
      ]
     },
     "execution_count": 17,
     "metadata": {},
     "output_type": "execute_result"
    }
   ],
   "source": [
    "movies_genres_rdd.take(3)[1]['Genres']"
   ]
  },
  {
   "cell_type": "code",
   "execution_count": 18,
   "metadata": {},
   "outputs": [],
   "source": [
    "# step (c)\n",
    "splitted_genres_rdd = movies_genres_rdd.map(lambda x: x['Genres'].split('|'))"
   ]
  },
  {
   "cell_type": "code",
   "execution_count": 19,
   "metadata": {},
   "outputs": [
    {
     "data": {
      "text/plain": [
       "[['Adventure', 'Animation', 'Children', 'Comedy', 'Fantasy'],\n",
       " ['Adventure', 'Children', 'Fantasy'],\n",
       " ['Comedy', 'Romance']]"
      ]
     },
     "execution_count": 19,
     "metadata": {},
     "output_type": "execute_result"
    }
   ],
   "source": [
    "splitted_genres_rdd.take(3)"
   ]
  },
  {
   "cell_type": "code",
   "execution_count": 20,
   "metadata": {},
   "outputs": [
    {
     "data": {
      "text/plain": [
       "['Adventure',\n",
       " 'Animation',\n",
       " 'Children',\n",
       " 'Comedy',\n",
       " 'Fantasy',\n",
       " 'Adventure',\n",
       " 'Children',\n",
       " 'Fantasy',\n",
       " 'Comedy',\n",
       " 'Romance']"
      ]
     },
     "execution_count": 20,
     "metadata": {},
     "output_type": "execute_result"
    }
   ],
   "source": [
    "# step (d)\n",
    "flattened_genres_rdd = splitted_genres_rdd.flatMap(lambda x: x)\n",
    "flattened_genres_rdd.take(10)"
   ]
  },
  {
   "cell_type": "markdown",
   "metadata": {},
   "source": [
    "# Exercise 2B (5 points)\n",
    "Complete the code below to compute the total number of movies in each genre (using map and reduceByKey in a way similar to counting hashtag in previous labs), and save the result in a subdirectory in your Lab5 directory."
   ]
  },
  {
   "cell_type": "code",
   "execution_count": 21,
   "metadata": {},
   "outputs": [],
   "source": [
    "genre_1_rdd = flattened_genres_rdd.map(lambda x: (x,1))"
   ]
  },
  {
   "cell_type": "code",
   "execution_count": 22,
   "metadata": {},
   "outputs": [],
   "source": [
    "genre_count_rdd = genre_1_rdd.reduceByKey(lambda x,y: x+y, 10)"
   ]
  },
  {
   "cell_type": "code",
   "execution_count": 23,
   "metadata": {},
   "outputs": [
    {
     "data": {
      "text/plain": [
       "[('IMAX', 153),\n",
       " ('Animation', 447),\n",
       " ('War', 367),\n",
       " ('Sci-Fi', 792),\n",
       " ('Horror', 877),\n",
       " ('Musical', 394),\n",
       " ('Crime', 1100),\n",
       " ('Children', 583),\n",
       " ('Romance', 1545),\n",
       " ('Action', 1545)]"
      ]
     },
     "execution_count": 23,
     "metadata": {},
     "output_type": "execute_result"
    }
   ],
   "source": [
    "genre_count_rdd.take(10)"
   ]
  },
  {
   "cell_type": "code",
   "execution_count": 25,
   "metadata": {},
   "outputs": [
    {
     "name": "stderr",
     "output_type": "stream",
     "text": [
      "                                                                                \r"
     ]
    }
   ],
   "source": [
    "genre_count_rdd.saveAsTextFile(\"/storage/home/aat5564/work/Lab5/Genre_count_local.txt\")"
   ]
  },
  {
   "cell_type": "code",
   "execution_count": 26,
   "metadata": {},
   "outputs": [
    {
     "name": "stdout",
     "output_type": "stream",
     "text": [
      "root\n",
      " |-- UserID: integer (nullable = true)\n",
      " |-- MovieID: integer (nullable = true)\n",
      " |-- Rating: float (nullable = true)\n",
      " |-- RatingID: integer (nullable = true)\n",
      "\n"
     ]
    }
   ],
   "source": [
    "ratings_DF.printSchema()"
   ]
  },
  {
   "cell_type": "code",
   "execution_count": 27,
   "metadata": {},
   "outputs": [
    {
     "name": "stdout",
     "output_type": "stream",
     "text": [
      "+------+-------+------+----------+\n",
      "|UserID|MovieID|Rating|  RatingID|\n",
      "+------+-------+------+----------+\n",
      "|     1|     31|   2.5|1260759144|\n",
      "|     1|   1029|   3.0|1260759179|\n",
      "|     1|   1061|   3.0|1260759182|\n",
      "|     1|   1129|   2.0|1260759185|\n",
      "|     1|   1172|   4.0|1260759205|\n",
      "+------+-------+------+----------+\n",
      "only showing top 5 rows\n",
      "\n"
     ]
    }
   ],
   "source": [
    "ratings_DF.show(5)"
   ]
  },
  {
   "cell_type": "markdown",
   "metadata": {
    "jupyter": {
     "outputs_hidden": true
    }
   },
   "source": [
    "# 2. DataFrames Transformations\n",
    "DataFrame in Spark provides higher-level transformations that are convenient for selecting rows, columns, and for creating new columns.  These transformations are part of Spark SQL.\n",
    "\n",
    "## 2.1 `where` DF Transformation for Filtering/Selecting Rows\n",
    "Select rows from a DataFrame (DF) that satisfy a condition.  This is similar to \"WHERE\" clause in SQL query language.\n",
    "- One important difference (compared to SQL) is we need to add `col( ...)` when referring to a column name. \n",
    "- The condition inside `where` transformation can be an equality test ('=='), greater-than test ('>'), or less-then test ('<'), as illustrated below."
   ]
  },
  {
   "cell_type": "markdown",
   "metadata": {},
   "source": [
    "# `show` DF action\n",
    "The `show` DF action is similar to `take` RDD action. It takes a number as a parameter, which is the number of elements to be randomly selected from the DF to be displayed. "
   ]
  },
  {
   "cell_type": "code",
   "execution_count": 28,
   "metadata": {},
   "outputs": [
    {
     "name": "stdout",
     "output_type": "stream",
     "text": [
      "+-------+--------------------+--------------------+\n",
      "|MovieID|          MovieTitle|              Genres|\n",
      "+-------+--------------------+--------------------+\n",
      "|    480|Jurassic Park (1993)|Action|Adventure|...|\n",
      "+-------+--------------------+--------------------+\n",
      "\n"
     ]
    }
   ],
   "source": [
    "movies_DF.where(col(\"MovieTitle\")== \"Jurassic Park (1993)\").show()"
   ]
  },
  {
   "cell_type": "code",
   "execution_count": 29,
   "metadata": {},
   "outputs": [
    {
     "name": "stdout",
     "output_type": "stream",
     "text": [
      "+------+-------+------+----------+\n",
      "|UserID|MovieID|Rating|  RatingID|\n",
      "+------+-------+------+----------+\n",
      "|     1|     31|   2.5|1260759144|\n",
      "|     1|   1029|   3.0|1260759179|\n",
      "|     1|   1061|   3.0|1260759182|\n",
      "|     1|   1172|   4.0|1260759205|\n",
      "|     1|   1339|   3.5|1260759125|\n",
      "+------+-------+------+----------+\n",
      "only showing top 5 rows\n",
      "\n"
     ]
    }
   ],
   "source": [
    "ratings_DF.where(col(\"Rating\") > 2).show(5)"
   ]
  },
  {
   "cell_type": "markdown",
   "metadata": {},
   "source": [
    "# `count` DF action\n",
    "The `count` action returns the total number of elements in the input DataFrame."
   ]
  },
  {
   "cell_type": "code",
   "execution_count": 30,
   "metadata": {},
   "outputs": [
    {
     "data": {
      "text/plain": [
       "62106"
      ]
     },
     "execution_count": 30,
     "metadata": {},
     "output_type": "execute_result"
    }
   ],
   "source": [
    "ratings_DF.filter(col(\"Rating\") > 3).count()"
   ]
  },
  {
   "cell_type": "markdown",
   "metadata": {},
   "source": [
    "# Notice: DataFrame, like RDD, is immutable\n",
    "- Did the filter method above change the content of ratings_DF?"
   ]
  },
  {
   "cell_type": "code",
   "execution_count": 31,
   "metadata": {},
   "outputs": [
    {
     "data": {
      "text/plain": [
       "100004"
      ]
     },
     "execution_count": 31,
     "metadata": {},
     "output_type": "execute_result"
    }
   ],
   "source": [
    "ratings_DF.count()"
   ]
  },
  {
   "cell_type": "markdown",
   "metadata": {},
   "source": [
    "# Exercise 3A (5 points) Filtering DF Rows\n",
    "### Complete the following statement to (1) select the `ratings_DF` DataFrame for reviews that are above 4, and (2) count the total number of such reviews."
   ]
  },
  {
   "cell_type": "code",
   "execution_count": 32,
   "metadata": {},
   "outputs": [
    {
     "name": "stdout",
     "output_type": "stream",
     "text": [
      "22818\n"
     ]
    }
   ],
   "source": [
    "high_review_count = ratings_DF.where(col('rating') > 4).count()\n",
    "print(high_review_count)"
   ]
  },
  {
   "cell_type": "markdown",
   "metadata": {},
   "source": [
    "## 2.2 DataFrame Transformation for Selecting Columns\n",
    "\n",
    "DataFrame transformation `select` is similar to the projection operation in SQL: it returns a DataFrame that contains all of the columns selected."
   ]
  },
  {
   "cell_type": "code",
   "execution_count": 33,
   "metadata": {},
   "outputs": [
    {
     "name": "stdout",
     "output_type": "stream",
     "text": [
      "+-------+--------------------+\n",
      "|MovieID|          MovieTitle|\n",
      "+-------+--------------------+\n",
      "|      1|    Toy Story (1995)|\n",
      "|      2|      Jumanji (1995)|\n",
      "|      3|Grumpier Old Men ...|\n",
      "|      4|Waiting to Exhale...|\n",
      "|      5|Father of the Bri...|\n",
      "+-------+--------------------+\n",
      "only showing top 5 rows\n",
      "\n"
     ]
    }
   ],
   "source": [
    "movies_DF.select(\"MovieID\",\"MovieTitle\").show(5)"
   ]
  },
  {
   "cell_type": "code",
   "execution_count": 34,
   "metadata": {},
   "outputs": [
    {
     "name": "stdout",
     "output_type": "stream",
     "text": [
      "+------+\n",
      "|Rating|\n",
      "+------+\n",
      "|   2.5|\n",
      "|   3.0|\n",
      "|   3.0|\n",
      "|   2.0|\n",
      "|   4.0|\n",
      "+------+\n",
      "only showing top 5 rows\n",
      "\n"
     ]
    }
   ],
   "source": [
    "ratings_DF.select(\"Rating\").show(5)"
   ]
  },
  {
   "cell_type": "markdown",
   "metadata": {},
   "source": [
    "# Selecting Columns from a DF\n",
    "## The following PySpark statement to (1) select only `MovieID` and `Rating` columns from `ratings_DF`, and (2) save it in a DataFrame called `movie_rating_DF`."
   ]
  },
  {
   "cell_type": "code",
   "execution_count": 35,
   "metadata": {},
   "outputs": [],
   "source": [
    "movie_rating_DF = ratings_DF.select(\"MovieID\", \"Rating\")"
   ]
  },
  {
   "cell_type": "code",
   "execution_count": 36,
   "metadata": {},
   "outputs": [
    {
     "name": "stdout",
     "output_type": "stream",
     "text": [
      "+-------+------+\n",
      "|MovieID|Rating|\n",
      "+-------+------+\n",
      "|     31|   2.5|\n",
      "|   1029|   3.0|\n",
      "|   1061|   3.0|\n",
      "|   1129|   2.0|\n",
      "|   1172|   4.0|\n",
      "+-------+------+\n",
      "only showing top 5 rows\n",
      "\n"
     ]
    }
   ],
   "source": [
    "movie_rating_DF.show(5)"
   ]
  },
  {
   "cell_type": "markdown",
   "metadata": {},
   "source": [
    "# 2.3 Statistical Summary of Numerical Columns\n",
    "DataFrame provides a `describe` method that provides a summary of basic statistical information (e.g., count, mean, standard deviation, min, max) for numerical columns."
   ]
  },
  {
   "cell_type": "code",
   "execution_count": 37,
   "metadata": {},
   "outputs": [
    {
     "name": "stdout",
     "output_type": "stream",
     "text": [
      "+-------+------------------+------------------+------------------+--------------------+\n",
      "|summary|            UserID|           MovieID|            Rating|            RatingID|\n",
      "+-------+------------------+------------------+------------------+--------------------+\n",
      "|  count|            100004|            100004|            100004|              100004|\n",
      "|   mean| 347.0113095476181|12548.664363425463| 3.543608255669773|1.1296390869392424E9|\n",
      "| stddev|195.16383797819535|26369.198968815268|1.0580641091070326|1.9168582602710962E8|\n",
      "|    min|                 1|                 1|               0.5|           789652009|\n",
      "|    max|               671|            163949|               5.0|          1476640644|\n",
      "+-------+------------------+------------------+------------------+--------------------+\n",
      "\n"
     ]
    }
   ],
   "source": [
    "ratings_DF.describe().show()"
   ]
  },
  {
   "cell_type": "markdown",
   "metadata": {},
   "source": [
    "## RDD has a histogram method to compute the total number of rows in each \"bucket\".\n",
    "The code below selects the Rating column from `ratings_DF`, converts it to an RDD, which maps to extract the rating value for each row, which is used to compute the total number of reviews in 6 buckets: \n",
    "- 0 <= reviews < 1 \n",
    "- 1 <= reviews < 2 \n",
    "- 2 <= reviews < 3 \n",
    "- 3 <= reviews < 4 \n",
    "- 4 <= reviews < 5 \n",
    "- 5 <= reivews < 6 "
   ]
  },
  {
   "cell_type": "code",
   "execution_count": 38,
   "metadata": {},
   "outputs": [
    {
     "data": {
      "text/plain": [
       "([0, 1, 2, 3, 4, 5, 6], [1101, 5013, 11720, 30602, 36473, 15095])"
      ]
     },
     "execution_count": 38,
     "metadata": {},
     "output_type": "execute_result"
    }
   ],
   "source": [
    "ratings_DF.select(col(\"Rating\")).rdd.map(lambda row: row['Rating']).histogram([0,1,2,3,4,5,6])"
   ]
  },
  {
   "cell_type": "markdown",
   "metadata": {},
   "source": [
    "# Exercise 3B (5 points)\n",
    "Based on the result, answer the following questions:\n",
    "- (a) How many reviews are 5?\n",
    "- (b) How many reviews are below 1 (i.e., 0.5)?"
   ]
  },
  {
   "cell_type": "markdown",
   "metadata": {},
   "source": [
    "# Solution for Exercise 3B\n",
    "- (a) The number of reviews that are 5 is 15095\n",
    "- (b) The number of reviews that are below one is 1101"
   ]
  },
  {
   "cell_type": "markdown",
   "metadata": {
    "jupyter": {
     "outputs_hidden": true
    }
   },
   "source": [
    "# 3. Transforming the Generes Column into Array of Generes \n",
    "## We want transform a column Generes, which represent all Generes of a movie using a string that uses \"|\" to connect the Generes so that we can later filter for movies of a Genere more efficiently.\n",
    "## This transformation can be done using `split` Spark SQL function (which is different from python `split` function)\n",
    "## Because the character '|' is a special character in Python, we need to add escape character (back slash \\) in front of it."
   ]
  },
  {
   "cell_type": "code",
   "execution_count": 39,
   "metadata": {},
   "outputs": [
    {
     "name": "stdout",
     "output_type": "stream",
     "text": [
      "+---------------------+\n",
      "|split(Genres, \\|, -1)|\n",
      "+---------------------+\n",
      "| [Adventure, Anima...|\n",
      "| [Adventure, Child...|\n",
      "|    [Comedy, Romance]|\n",
      "| [Comedy, Drama, R...|\n",
      "|             [Comedy]|\n",
      "+---------------------+\n",
      "only showing top 5 rows\n",
      "\n"
     ]
    }
   ],
   "source": [
    "Splitted_Generes_DF= movies_DF.select(split(col(\"Genres\"), '\\|'))\n",
    "Splitted_Generes_DF.show(5)"
   ]
  },
  {
   "cell_type": "markdown",
   "metadata": {},
   "source": [
    "## 3.1 Adding a Column to a DataFrame using withColumn\n",
    "\n",
    "# `withColumn` DF Transformation\n",
    "\n",
    "We often need to transform content of a column into another column. For example, it is desirable to transform the column Genres in the movies DataFrame into an `Array` of genres that each movie belongs, we can do this using the DataFrame method `withColumn`."
   ]
  },
  {
   "cell_type": "markdown",
   "metadata": {},
   "source": [
    "### Creates a new column called \"Genres_Array\", whose values are arrays of genres for each movie, obtained by splitting the column value of \"Genres\" for each row (movie)."
   ]
  },
  {
   "cell_type": "code",
   "execution_count": 40,
   "metadata": {},
   "outputs": [],
   "source": [
    "moviesGA_DF= movies_DF.withColumn(\"Genres_Array\",split(col(\"Genres\"), '\\|') )"
   ]
  },
  {
   "cell_type": "code",
   "execution_count": 41,
   "metadata": {},
   "outputs": [
    {
     "name": "stdout",
     "output_type": "stream",
     "text": [
      "root\n",
      " |-- MovieID: integer (nullable = true)\n",
      " |-- MovieTitle: string (nullable = true)\n",
      " |-- Genres: string (nullable = true)\n",
      " |-- Genres_Array: array (nullable = true)\n",
      " |    |-- element: string (containsNull = true)\n",
      "\n"
     ]
    }
   ],
   "source": [
    "moviesGA_DF.printSchema()"
   ]
  },
  {
   "cell_type": "code",
   "execution_count": 42,
   "metadata": {},
   "outputs": [
    {
     "name": "stdout",
     "output_type": "stream",
     "text": [
      "+-------+--------------------+--------------------+--------------------+\n",
      "|MovieID|          MovieTitle|              Genres|        Genres_Array|\n",
      "+-------+--------------------+--------------------+--------------------+\n",
      "|      1|    Toy Story (1995)|Adventure|Animati...|[Adventure, Anima...|\n",
      "|      2|      Jumanji (1995)|Adventure|Childre...|[Adventure, Child...|\n",
      "|      3|Grumpier Old Men ...|      Comedy|Romance|   [Comedy, Romance]|\n",
      "|      4|Waiting to Exhale...|Comedy|Drama|Romance|[Comedy, Drama, R...|\n",
      "|      5|Father of the Bri...|              Comedy|            [Comedy]|\n",
      "+-------+--------------------+--------------------+--------------------+\n",
      "only showing top 5 rows\n",
      "\n"
     ]
    }
   ],
   "source": [
    "moviesGA_DF.show(5)"
   ]
  },
  {
   "cell_type": "markdown",
   "metadata": {},
   "source": [
    "# array_contains (SQL function)\n",
    "- An SQL function is a function that can be used in `where` and `filter` methods of DataFrame for selecting rows.\n",
    "- `array_contains` is an SQL function that checks whether an array column (of type `array`) contains a specific value.\n",
    "- For example, we can use `arrang_contains` to filter for all movies whose `Genres_Array` contain a specific genre (e.g., 'Adventure')."
   ]
  },
  {
   "cell_type": "markdown",
   "metadata": {},
   "source": [
    "# Exercise 4 (5 points)\n",
    "Complete the code below to select, from the DataFrame `moviesGA_DF', all movies in the Adventure genre."
   ]
  },
  {
   "cell_type": "code",
   "execution_count": 43,
   "metadata": {},
   "outputs": [],
   "source": [
    "from pyspark.sql.functions import array_contains\n",
    "movies_adv_genre_DF = moviesGA_DF.filter(col('Genres') == 'Adventure')"
   ]
  },
  {
   "cell_type": "code",
   "execution_count": 44,
   "metadata": {},
   "outputs": [
    {
     "name": "stdout",
     "output_type": "stream",
     "text": [
      "+-------+--------------------+---------+------------+\n",
      "|MovieID|          MovieTitle|   Genres|Genres_Array|\n",
      "+-------+--------------------+---------+------------+\n",
      "|    941|Mark of Zorro, Th...|Adventure| [Adventure]|\n",
      "|   2537|Beyond the Poseid...|Adventure| [Adventure]|\n",
      "|   3166| Brenda Starr (1989)|Adventure| [Adventure]|\n",
      "|   3207|Snows of Kilimanj...|Adventure| [Adventure]|\n",
      "|   4988|White Water Summe...|Adventure| [Adventure]|\n",
      "+-------+--------------------+---------+------------+\n",
      "only showing top 5 rows\n",
      "\n"
     ]
    }
   ],
   "source": [
    "movies_adv_genre_DF.show(5)"
   ]
  },
  {
   "cell_type": "markdown",
   "metadata": {},
   "source": [
    "# A DF-based approach to aggregate \n",
    "We mentioned earlier there are two ways to perform aggregation: (1) an RDD-based aggregation, and (2) a DF-based aggregation.  \n",
    "\n",
    "While an RDD-based aggregation uses key-value pairs and reduceByKey, DF-based aggregation performs aggregation using `groupBy`, which groups a DataFrame based on the value of a specific column.  Below are some examples:\n",
    "- If a DataFrame has two columns: `MovieID` and `Rating`, applying `groupBy` on the `MovieID` column enable us to add all of each movie's reviews into a total sum, which can be used to calculate an average review (by dividing it by the total number of reviews) for each movie."
   ]
  },
  {
   "cell_type": "markdown",
   "metadata": {},
   "source": [
    "# `groupBy` DF transformation\n",
    "Taking a column name (string) as the parameter, the transformation groups rows of the DF based on the column.  All rows with the same value for the column is grouped together.  The result of groupBy transformation is often followed by an aggregation (e.g., sum, count) across all rows in each group.  \n",
    "\n",
    "# `sum` DF transformation\n",
    "Taking a column name (string) as the parameter. This is typically used after `groupBy` DF transformation. The transformation `sum` adds the value of the input column (which should be a number) across all rows in the each group. \n",
    "- The DataFrame created has two column: (1) the column used in `groupBy', and (2) a column named `sum(...)` where ... is the name of the column being added.\n",
    "\n",
    "# `count` DF transformation\n",
    "Returns the number of rows in the DataFrame.  When `count` is used after `groupBy`, it returns a DataFrame with a column called \"count\" that contains the total number of rows for each group generated by the `groupBy`.\n",
    "- Similar to `sum`, the DataFrame created by `count` has two columns: (1) the column used in `groupBy`, and (2) a column named `count`."
   ]
  },
  {
   "cell_type": "code",
   "execution_count": 45,
   "metadata": {},
   "outputs": [],
   "source": [
    "Movie_RatingSum_DF = ratings_DF.groupBy(\"MovieID\").sum(\"Rating\")"
   ]
  },
  {
   "cell_type": "code",
   "execution_count": 46,
   "metadata": {},
   "outputs": [
    {
     "name": "stdout",
     "output_type": "stream",
     "text": [
      "+-------+-----------+\n",
      "|MovieID|sum(Rating)|\n",
      "+-------+-----------+\n",
      "|   1580|      696.0|\n",
      "|   2659|       12.0|\n",
      "|   3794|       17.0|\n",
      "|   3175|      228.0|\n",
      "+-------+-----------+\n",
      "only showing top 4 rows\n",
      "\n"
     ]
    }
   ],
   "source": [
    "Movie_RatingSum_DF.show(4)"
   ]
  },
  {
   "cell_type": "markdown",
   "metadata": {},
   "source": [
    "# Exercise 5A (5 points)\n",
    "Complete the code below to calculate the total number of reviews for each movies."
   ]
  },
  {
   "cell_type": "code",
   "execution_count": 51,
   "metadata": {},
   "outputs": [],
   "source": [
    "Movie_RatingCount_DF = ratings_DF.groupBy('MovieID').count()"
   ]
  },
  {
   "cell_type": "code",
   "execution_count": 52,
   "metadata": {},
   "outputs": [
    {
     "name": "stdout",
     "output_type": "stream",
     "text": [
      "+-------+-----+\n",
      "|MovieID|count|\n",
      "+-------+-----+\n",
      "|   1580|  190|\n",
      "|   2659|    3|\n",
      "|   3794|    5|\n",
      "|   3175|   65|\n",
      "+-------+-----+\n",
      "only showing top 4 rows\n",
      "\n"
     ]
    }
   ],
   "source": [
    "Movie_RatingCount_DF.show(4)"
   ]
  },
  {
   "cell_type": "markdown",
   "metadata": {},
   "source": [
    "# Exercise 5B (5 points)\n",
    "Complete the code below to calculate the average number of reviews and maximal number of reviews across all movies. \n",
    "- Save the average number of reviews in a variable `Reviewers_mean`, which we will use later to filter for movies in a genre (only including movies that received more than the average number of reviews)."
   ]
  },
  {
   "cell_type": "code",
   "execution_count": 53,
   "metadata": {},
   "outputs": [],
   "source": [
    "from pyspark.sql.functions import avg, max"
   ]
  },
  {
   "cell_type": "code",
   "execution_count": 54,
   "metadata": {},
   "outputs": [
    {
     "name": "stdout",
     "output_type": "stream",
     "text": [
      "+------------------+\n",
      "|        avg(count)|\n",
      "+------------------+\n",
      "|11.030664019413193|\n",
      "+------------------+\n",
      "\n"
     ]
    }
   ],
   "source": [
    "Movie_RatingCount_DF.select( avg(col(\"count\")) ).show()"
   ]
  },
  {
   "cell_type": "code",
   "execution_count": 55,
   "metadata": {},
   "outputs": [],
   "source": [
    "Reviewers_mean_rdd = Movie_RatingCount_DF.select( avg(col(\"count\")) ).rdd"
   ]
  },
  {
   "cell_type": "code",
   "execution_count": 56,
   "metadata": {},
   "outputs": [
    {
     "data": {
      "text/plain": [
       "[Row(avg(count)=11.030664019413193)]"
      ]
     },
     "execution_count": 56,
     "metadata": {},
     "output_type": "execute_result"
    }
   ],
   "source": [
    "Reviewers_mean_rdd.take(1)"
   ]
  },
  {
   "cell_type": "code",
   "execution_count": 57,
   "metadata": {},
   "outputs": [],
   "source": [
    "Reviewers_mean=Reviewers_mean_rdd.take(1)[0]['avg(count)']"
   ]
  },
  {
   "cell_type": "code",
   "execution_count": 58,
   "metadata": {},
   "outputs": [
    {
     "name": "stdout",
     "output_type": "stream",
     "text": [
      "11.030664019413193\n"
     ]
    }
   ],
   "source": [
    "print(Reviewers_mean)"
   ]
  },
  {
   "cell_type": "markdown",
   "metadata": {},
   "source": [
    "# Maximal Reviewers for a Movie\n",
    "We can also find out the maximal reviews a movie received in this small dataset."
   ]
  },
  {
   "cell_type": "code",
   "execution_count": 59,
   "metadata": {},
   "outputs": [
    {
     "name": "stdout",
     "output_type": "stream",
     "text": [
      "+----------+\n",
      "|max(count)|\n",
      "+----------+\n",
      "|       341|\n",
      "+----------+\n",
      "\n"
     ]
    }
   ],
   "source": [
    "Movie_RatingCount_DF.select( max(col(\"count\")) ).show()"
   ]
  },
  {
   "cell_type": "code",
   "execution_count": 60,
   "metadata": {},
   "outputs": [],
   "source": [
    "Reviewers_max_rdd = Movie_RatingCount_DF.select( max(col(\"count\")) ).rdd"
   ]
  },
  {
   "cell_type": "code",
   "execution_count": 61,
   "metadata": {},
   "outputs": [],
   "source": [
    "Reviewers_max = Reviewers_max_rdd.take(1)[0]['max(count)']"
   ]
  },
  {
   "cell_type": "markdown",
   "metadata": {},
   "source": [
    "# We can use histogram function to understand the distribution of reviewers/movie.  We want to make sure the boundary of the highest bucket is larger than the maximal reviewers for a movie (hence, adding 1 to `Reviewers_max`)."
   ]
  },
  {
   "cell_type": "code",
   "execution_count": 62,
   "metadata": {},
   "outputs": [
    {
     "data": {
      "text/plain": [
       "([0, 5, 10, 15, 20, 25, 50, 100, 342],\n",
       " [5570, 1251, 606, 336, 274, 576, 302, 151])"
      ]
     },
     "execution_count": 62,
     "metadata": {},
     "output_type": "execute_result"
    }
   ],
   "source": [
    "Movie_RatingCount_DF.select(\"count\").rdd.map(lambda x: x['count']).histogram([0, 5, 10, 15, 20, 25, 50,100, Reviewers_max +1]) "
   ]
  },
  {
   "cell_type": "markdown",
   "metadata": {},
   "source": [
    "# 5. Join Transformation on Two DataFrames"
   ]
  },
  {
   "cell_type": "markdown",
   "metadata": {
    "tags": []
   },
   "source": [
    "# Exercise 6 (5 points)\n",
    "Complete the code below to (1) perform DF-based inner join on the column MovieID, and (2) calculate the average rating for each movie."
   ]
  },
  {
   "cell_type": "code",
   "execution_count": 63,
   "metadata": {},
   "outputs": [],
   "source": [
    "Movie_Rating_Sum_Count_DF = Movie_RatingSum_DF.join(Movie_RatingCount_DF, 'MovieID', 'inner')"
   ]
  },
  {
   "cell_type": "code",
   "execution_count": 64,
   "metadata": {},
   "outputs": [
    {
     "name": "stdout",
     "output_type": "stream",
     "text": [
      "+-------+-----------+-----+\n",
      "|MovieID|sum(Rating)|count|\n",
      "+-------+-----------+-----+\n",
      "|   1580|      696.0|  190|\n",
      "|   2659|       12.0|    3|\n",
      "|   3794|       17.0|    5|\n",
      "|   3175|      228.0|   65|\n",
      "+-------+-----------+-----+\n",
      "only showing top 4 rows\n",
      "\n"
     ]
    }
   ],
   "source": [
    "Movie_Rating_Sum_Count_DF.show(4)"
   ]
  },
  {
   "cell_type": "code",
   "execution_count": 65,
   "metadata": {},
   "outputs": [],
   "source": [
    "Movie_Rating_Count_Avg_DF = Movie_Rating_Sum_Count_DF.withColumn(\"AvgRating\", col(\"sum(Rating)\") / col(\"count\")  )"
   ]
  },
  {
   "cell_type": "code",
   "execution_count": 66,
   "metadata": {},
   "outputs": [
    {
     "name": "stdout",
     "output_type": "stream",
     "text": [
      "+-------+-----------+-----+------------------+\n",
      "|MovieID|sum(Rating)|count|         AvgRating|\n",
      "+-------+-----------+-----+------------------+\n",
      "|   1580|      696.0|  190| 3.663157894736842|\n",
      "|   2659|       12.0|    3|               4.0|\n",
      "|   3794|       17.0|    5|               3.4|\n",
      "|   3175|      228.0|   65|3.5076923076923077|\n",
      "+-------+-----------+-----+------------------+\n",
      "only showing top 4 rows\n",
      "\n"
     ]
    }
   ],
   "source": [
    "Movie_Rating_Count_Avg_DF.show(4)"
   ]
  },
  {
   "cell_type": "markdown",
   "metadata": {},
   "source": [
    "##  Next, we want to join the Movie_Rating_Count_Avg_DF with moviesG2_DF so that we have other information about the movie (e.g., titles, Genres_Array)"
   ]
  },
  {
   "cell_type": "code",
   "execution_count": 67,
   "metadata": {},
   "outputs": [],
   "source": [
    "joined_DF = Movie_Rating_Count_Avg_DF.join(moviesGA_DF,'MovieID', 'inner')"
   ]
  },
  {
   "cell_type": "code",
   "execution_count": 68,
   "metadata": {},
   "outputs": [
    {
     "name": "stdout",
     "output_type": "stream",
     "text": [
      "root\n",
      " |-- MovieID: integer (nullable = true)\n",
      " |-- MovieTitle: string (nullable = true)\n",
      " |-- Genres: string (nullable = true)\n",
      " |-- Genres_Array: array (nullable = true)\n",
      " |    |-- element: string (containsNull = true)\n",
      "\n"
     ]
    }
   ],
   "source": [
    "moviesGA_DF.printSchema()"
   ]
  },
  {
   "cell_type": "code",
   "execution_count": 69,
   "metadata": {},
   "outputs": [
    {
     "name": "stdout",
     "output_type": "stream",
     "text": [
      "root\n",
      " |-- MovieID: integer (nullable = true)\n",
      " |-- sum(Rating): double (nullable = true)\n",
      " |-- count: long (nullable = false)\n",
      " |-- AvgRating: double (nullable = true)\n",
      " |-- MovieTitle: string (nullable = true)\n",
      " |-- Genres: string (nullable = true)\n",
      " |-- Genres_Array: array (nullable = true)\n",
      " |    |-- element: string (containsNull = true)\n",
      "\n"
     ]
    }
   ],
   "source": [
    "joined_DF.printSchema()"
   ]
  },
  {
   "cell_type": "code",
   "execution_count": 70,
   "metadata": {},
   "outputs": [
    {
     "name": "stdout",
     "output_type": "stream",
     "text": [
      "+-------+-----------+-----+------------------+--------------------+--------------------+--------------------+\n",
      "|MovieID|sum(Rating)|count|         AvgRating|          MovieTitle|              Genres|        Genres_Array|\n",
      "+-------+-----------+-----+------------------+--------------------+--------------------+--------------------+\n",
      "|   1580|      696.0|  190| 3.663157894736842|Men in Black (a.k...|Action|Comedy|Sci-Fi|[Action, Comedy, ...|\n",
      "|   2659|       12.0|    3|               4.0|It Came from Holl...|  Comedy|Documentary|[Comedy, Document...|\n",
      "|   3794|       17.0|    5|               3.4| Chuck & Buck (2000)|        Comedy|Drama|     [Comedy, Drama]|\n",
      "|   3175|      228.0|   65|3.5076923076923077| Galaxy Quest (1999)|Adventure|Comedy|...|[Adventure, Comed...|\n",
      "|    471|      190.0|   49| 3.877551020408163|Hudsucker Proxy, ...|              Comedy|            [Comedy]|\n",
      "+-------+-----------+-----+------------------+--------------------+--------------------+--------------------+\n",
      "only showing top 5 rows\n",
      "\n"
     ]
    }
   ],
   "source": [
    "joined_DF.show(5)"
   ]
  },
  {
   "cell_type": "markdown",
   "metadata": {},
   "source": [
    "# 6. Filter DataFrame on an Array Column of DataFrame Using `array_contains`\n",
    "\n",
    "## Exercise 7 (5 points)\n",
    "Complete the following code to filter for a genre of your choice."
   ]
  },
  {
   "cell_type": "code",
   "execution_count": 71,
   "metadata": {},
   "outputs": [],
   "source": [
    "from pyspark.sql.functions import array_contains\n",
    "SelectGenreAvgRating_DF = joined_DF.filter(array_contains('Genres_Array', \\\n",
    "                                               'Comedy')).select(\"MovieID\",\"AvgRating\",\"count\",\"MovieTitle\",\"Genres\",\"Genres_Array\")"
   ]
  },
  {
   "cell_type": "code",
   "execution_count": 72,
   "metadata": {},
   "outputs": [
    {
     "name": "stdout",
     "output_type": "stream",
     "text": [
      "+-------+------------------+-----+--------------------+--------------------+--------------------+\n",
      "|MovieID|         AvgRating|count|          MovieTitle|              Genres|        Genres_Array|\n",
      "+-------+------------------+-----+--------------------+--------------------+--------------------+\n",
      "|   1580| 3.663157894736842|  190|Men in Black (a.k...|Action|Comedy|Sci-Fi|[Action, Comedy, ...|\n",
      "|   2659|               4.0|    3|It Came from Holl...|  Comedy|Documentary|[Comedy, Document...|\n",
      "|   3794|               3.4|    5| Chuck & Buck (2000)|        Comedy|Drama|     [Comedy, Drama]|\n",
      "|   3175|3.5076923076923077|   65| Galaxy Quest (1999)|Adventure|Comedy|...|[Adventure, Comed...|\n",
      "|    471| 3.877551020408163|   49|Hudsucker Proxy, ...|              Comedy|            [Comedy]|\n",
      "+-------+------------------+-----+--------------------+--------------------+--------------------+\n",
      "only showing top 5 rows\n",
      "\n"
     ]
    }
   ],
   "source": [
    "SelectGenreAvgRating_DF.show(5)"
   ]
  },
  {
   "cell_type": "code",
   "execution_count": 73,
   "metadata": {},
   "outputs": [
    {
     "data": {
      "text/plain": [
       "3307"
      ]
     },
     "execution_count": 73,
     "metadata": {},
     "output_type": "execute_result"
    }
   ],
   "source": [
    "SelectGenreAvgRating_DF.count()"
   ]
  },
  {
   "cell_type": "code",
   "execution_count": 74,
   "metadata": {},
   "outputs": [
    {
     "name": "stdout",
     "output_type": "stream",
     "text": [
      "+-------+------------------+------------------+------------------+--------------------+--------------------+\n",
      "|summary|           MovieID|         AvgRating|             count|          MovieTitle|              Genres|\n",
      "+-------+------------------+------------------+------------------+--------------------+--------------------+\n",
      "|  count|              3307|              3307|              3307|                3307|                3307|\n",
      "|   mean|30277.501663138795| 3.190353163648426|11.498639250075597|                null|                null|\n",
      "| stddev|  40111.1391405288|0.8910523473881353|23.795030821491128|                null|                null|\n",
      "|    min|                 1|               0.5|                 1|'Hellboy': The Se...|Action|Adventure|...|\n",
      "|    max|            160567|               5.0|               341|À nous la liberté...|      Comedy|Western|\n",
      "+-------+------------------+------------------+------------------+--------------------+--------------------+\n",
      "\n"
     ]
    }
   ],
   "source": [
    "SelectGenreAvgRating_DF.describe().show()"
   ]
  },
  {
   "cell_type": "code",
   "execution_count": 75,
   "metadata": {},
   "outputs": [],
   "source": [
    "SortedSelectGenreAvgRating_DF = SelectGenreAvgRating_DF.orderBy('AvgRating', ascending=False)"
   ]
  },
  {
   "cell_type": "code",
   "execution_count": 76,
   "metadata": {},
   "outputs": [
    {
     "name": "stdout",
     "output_type": "stream",
     "text": [
      "+-------+---------+-----+--------------------+--------------------+--------------------+\n",
      "|MovieID|AvgRating|count|          MovieTitle|              Genres|        Genres_Array|\n",
      "+-------+---------+-----+--------------------+--------------------+--------------------+\n",
      "|   4796|      5.0|    1|Grass Is Greener,...|      Comedy|Romance|   [Comedy, Romance]|\n",
      "| 140749|      5.0|    1| 29th and Gay (2005)|              Comedy|            [Comedy]|\n",
      "|  26501|      5.0|    1|    Choose Me (1984)|      Comedy|Romance|   [Comedy, Romance]|\n",
      "|  95313|      5.0|    1|Jack-Jack Attack ...|Adventure|Animati...|[Adventure, Anima...|\n",
      "|  61250|      5.0|    1|House Bunny, The ...|              Comedy|            [Comedy]|\n",
      "|    183|      5.0|    1| Mute Witness (1994)|Comedy|Horror|Thr...|[Comedy, Horror, ...|\n",
      "|    876|      5.0|    1|Supercop 2 (Proje...|Action|Comedy|Cri...|[Action, Comedy, ...|\n",
      "|   8123|      5.0|    1|Sammy and Rosie G...|        Comedy|Drama|     [Comedy, Drama]|\n",
      "|  91690|      5.0|    1|Friends with Kids...|              Comedy|            [Comedy]|\n",
      "|   6342|      5.0|    1|    Trip, The (2002)|Comedy|Drama|Romance|[Comedy, Drama, R...|\n",
      "+-------+---------+-----+--------------------+--------------------+--------------------+\n",
      "only showing top 10 rows\n",
      "\n"
     ]
    }
   ],
   "source": [
    "SortedSelectGenreAvgRating_DF.show(10)"
   ]
  },
  {
   "cell_type": "markdown",
   "metadata": {},
   "source": [
    "## We noticed many of the movie with high average rating were rated by a small number of reviewers. Should we filter them out?  How? What threshold should we use?"
   ]
  },
  {
   "cell_type": "markdown",
   "metadata": {},
   "source": [
    "# Exercise 8 (10 points)\n",
    "Use DataFrame method `where` or `filter` to find all movies (in your choice of genre) that have received reviews more than `Reviewers_mean` calculated earlier."
   ]
  },
  {
   "cell_type": "code",
   "execution_count": 77,
   "metadata": {},
   "outputs": [],
   "source": [
    "SortedFilteredSelectGenreAvgRating_DF = SortedSelectGenreAvgRating_DF.where(col(\"count\") > Reviewers_mean)"
   ]
  },
  {
   "cell_type": "code",
   "execution_count": 78,
   "metadata": {},
   "outputs": [
    {
     "name": "stdout",
     "output_type": "stream",
     "text": [
      "+-------+-----------------+-----+--------------------+--------------------+--------------------+\n",
      "|MovieID|        AvgRating|count|          MovieTitle|              Genres|        Genres_Array|\n",
      "+-------+-----------------+-----+--------------------+--------------------+--------------------+\n",
      "|   1948|4.458333333333333|   12|    Tom Jones (1963)|Adventure|Comedy|...|[Adventure, Comed...|\n",
      "|    969|             4.42|   50|African Queen, Th...|Adventure|Comedy|...|[Adventure, Comed...|\n",
      "|   3035|4.411764705882353|   17|Mister Roberts (1...|    Comedy|Drama|War|[Comedy, Drama, War]|\n",
      "|    905|             4.38|   25|It Happened One N...|      Comedy|Romance|   [Comedy, Romance]|\n",
      "|   3462|         4.359375|   32| Modern Times (1936)|Comedy|Drama|Romance|[Comedy, Drama, R...|\n",
      "+-------+-----------------+-----+--------------------+--------------------+--------------------+\n",
      "only showing top 5 rows\n",
      "\n"
     ]
    }
   ],
   "source": [
    "SortedFilteredSelectGenreAvgRating_DF.show(5)"
   ]
  },
  {
   "cell_type": "markdown",
   "metadata": {},
   "source": [
    "# Saving a DataFrame to a CSV file\n",
    "Because a column of `array` type (like `Genres_Array`) can not be saved in a csv file, we want to select all of the other columns into a dataframe so that it is ready to be written to CSV files."
   ]
  },
  {
   "cell_type": "markdown",
   "metadata": {},
   "source": [
    "## Exercise 9 (10 ponts)\n",
    "Complete the code below to \n",
    "- (1) Select all of the columns of `SortedFilteredSelectGenreAvgRating_DF`, except 'Genres_Array', to a DataFrame\n",
    "- (2) save the DataFrame as CSV files in an output directory in Lab5."
   ]
  },
  {
   "cell_type": "code",
   "execution_count": 79,
   "metadata": {},
   "outputs": [],
   "source": [
    "Top_Movies_Your_Genre_DF = SortedFilteredSelectGenreAvgRating_DF.select(\"MovieID\",\"AvgRating\",\"count\",\"MovieTitle\",\"Genres\")"
   ]
  },
  {
   "cell_type": "code",
   "execution_count": 80,
   "metadata": {},
   "outputs": [
    {
     "name": "stdout",
     "output_type": "stream",
     "text": [
      "+-------+-----------------+-----+--------------------+--------------------+\n",
      "|MovieID|        AvgRating|count|          MovieTitle|              Genres|\n",
      "+-------+-----------------+-----+--------------------+--------------------+\n",
      "|   1948|4.458333333333333|   12|    Tom Jones (1963)|Adventure|Comedy|...|\n",
      "|    969|             4.42|   50|African Queen, Th...|Adventure|Comedy|...|\n",
      "|   3035|4.411764705882353|   17|Mister Roberts (1...|    Comedy|Drama|War|\n",
      "|    905|             4.38|   25|It Happened One N...|      Comedy|Romance|\n",
      "|   3462|         4.359375|   32| Modern Times (1936)|Comedy|Drama|Romance|\n",
      "+-------+-----------------+-----+--------------------+--------------------+\n",
      "only showing top 5 rows\n",
      "\n"
     ]
    }
   ],
   "source": [
    "Top_Movies_Your_Genre_DF.show(5)"
   ]
  },
  {
   "cell_type": "markdown",
   "metadata": {},
   "source": [
    "# Writing the column names of a DataFrame as header in the output CSV file\n",
    "- The header parameter in `options` of DataFrame `write` method allows us to save the column names of the DataFrame as the header in the output csv.\n",
    "- We just specify the value of the header parameter to be `True`."
   ]
  },
  {
   "cell_type": "code",
   "execution_count": 81,
   "metadata": {},
   "outputs": [],
   "source": [
    "output_path = \"/storage/home/aat5564/work/Lab5/TopMovies4YourGenre_local\"\n",
    "Top_Movies_Your_Genre_DF.write.options(header=True).csv(output_path)"
   ]
  },
  {
   "cell_type": "code",
   "execution_count": 82,
   "metadata": {},
   "outputs": [],
   "source": [
    "ss.stop()"
   ]
  },
  {
   "cell_type": "markdown",
   "metadata": {},
   "source": [
    "# Exercise 10 (30 points)\n",
    "Enter the following information based on the results of running your code (.py file) on large datasets in the cluster. The correct file submission is required for each question.\n",
    "- (a) Submit your .py file for cluster mode and answer question 1 below (10 points)\n",
    "- (b) Submit your log file for a successful execution in the cluster mode and answer question 3 below (10 points)\n",
    "- (c) Submit the first file in your output directory for movies in your choice of genre, sorted by average rating, that receive more reviews than `Reviewers_mean` in the cluster mode, and answer question 2 below. (10 points)"
   ]
  },
  {
   "cell_type": "markdown",
   "metadata": {},
   "source": [
    "1. What is your choice of the genre for your analysis? \n",
    "2. What are the top five movies in the genre?\n",
    "3. What is the computation time your job took? "
   ]
  },
  {
   "cell_type": "markdown",
   "metadata": {},
   "source": [
    "# Answer to questions for Exercise 10\n",
    "- 1. \n",
    "- 2. \n",
    "- 3. "
   ]
  },
  {
   "cell_type": "code",
   "execution_count": null,
   "metadata": {},
   "outputs": [],
   "source": []
  }
 ],
 "metadata": {
  "kernelspec": {
   "display_name": "Python 3 (ipykernel)",
   "language": "python",
   "name": "python3"
  },
  "language_info": {
   "codemirror_mode": {
    "name": "ipython",
    "version": 3
   },
   "file_extension": ".py",
   "mimetype": "text/x-python",
   "name": "python",
   "nbconvert_exporter": "python",
   "pygments_lexer": "ipython3",
   "version": "3.10.4"
  }
 },
 "nbformat": 4,
 "nbformat_minor": 4
}
